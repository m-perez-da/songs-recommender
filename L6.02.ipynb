{
 "cells": [
  {
   "cell_type": "code",
   "execution_count": null,
   "id": "5558a5e9",
   "metadata": {},
   "outputs": [],
   "source": [
    "# Lab 6.02. Web Scraping Multiple Pages (find other lists of hot songs). Trying to build a repository for 80's (pock/rock)"
   ]
  },
  {
   "cell_type": "code",
   "execution_count": 1,
   "id": "db46cf88",
   "metadata": {},
   "outputs": [],
   "source": [
    "from bs4 import BeautifulSoup\n",
    "import pandas as pd\n",
    "import requests\n",
    "from time import sleep\n",
    "from random import randint"
   ]
  },
  {
   "cell_type": "code",
   "execution_count": 2,
   "id": "06d144a9",
   "metadata": {},
   "outputs": [],
   "source": [
    "years=range(1980, 1990)"
   ]
  },
  {
   "cell_type": "code",
   "execution_count": 3,
   "id": "8de3d693",
   "metadata": {},
   "outputs": [
    {
     "name": "stdout",
     "output_type": "stream",
     "text": [
      "Status code: 200\n",
      "I will sleep for 4 second/s.\n",
      "Status code: 200\n",
      "I will sleep for 4 second/s.\n",
      "Status code: 200\n",
      "I will sleep for 4 second/s.\n",
      "Status code: 200\n",
      "I will sleep for 1 second/s.\n",
      "Status code: 200\n",
      "I will sleep for 3 second/s.\n",
      "Status code: 200\n",
      "I will sleep for 1 second/s.\n",
      "Status code: 200\n",
      "I will sleep for 1 second/s.\n",
      "Status code: 200\n",
      "I will sleep for 2 second/s.\n",
      "Status code: 200\n",
      "I will sleep for 4 second/s.\n",
      "Status code: 200\n",
      "I will sleep for 1 second/s.\n"
     ]
    }
   ],
   "source": [
    "# Pop Songs of 80's\n",
    "pages_pop = []\n",
    "for i in years:\n",
    "    year= str(i)\n",
    "    url = \"https://playback.fm/charts/top-100-songs/\" + year\n",
    "\n",
    "    response = requests.get(url)\n",
    "    print(\"Status code: \" + str(response.status_code))\n",
    "    pages_pop.append(response)\n",
    "\n",
    "    wait_time = randint(1,4)\n",
    "    print(\"I will sleep for \" + str(wait_time) + \" second/s.\")\n",
    "    sleep(wait_time)"
   ]
  },
  {
   "cell_type": "code",
   "execution_count": 4,
   "id": "6169546d",
   "metadata": {},
   "outputs": [],
   "source": [
    "pages_parsed = []\n",
    "artists = []\n",
    "songs = []\n",
    "for i in range(len(pages_pop)):\n",
    "    pages_parsed.append(BeautifulSoup(pages_pop[i].content, \"html.parser\")) \n",
    "    for j in range(len(pages_parsed[i].select(\".artist\"))):\n",
    "        artists.append(pages_parsed[i].select(\".artist\")[j].get_text().replace('\\n',''))\n",
    "        songs.append(pages_parsed[i].select(\".song\")[2*j].get_text().replace('\\n',''))"
   ]
  },
  {
   "cell_type": "code",
   "execution_count": 5,
   "id": "8c7b0ec9",
   "metadata": {},
   "outputs": [],
   "source": [
    "repository_pop = pd.DataFrame({\"artist\":artists,\n",
    "                       \"song\":songs\n",
    "                          })"
   ]
  },
  {
   "cell_type": "code",
   "execution_count": 6,
   "id": "13db2dd9",
   "metadata": {},
   "outputs": [
    {
     "data": {
      "text/html": [
       "<div>\n",
       "<style scoped>\n",
       "    .dataframe tbody tr th:only-of-type {\n",
       "        vertical-align: middle;\n",
       "    }\n",
       "\n",
       "    .dataframe tbody tr th {\n",
       "        vertical-align: top;\n",
       "    }\n",
       "\n",
       "    .dataframe thead th {\n",
       "        text-align: right;\n",
       "    }\n",
       "</style>\n",
       "<table border=\"1\" class=\"dataframe\">\n",
       "  <thead>\n",
       "    <tr style=\"text-align: right;\">\n",
       "      <th></th>\n",
       "      <th>artist</th>\n",
       "      <th>song</th>\n",
       "    </tr>\n",
       "  </thead>\n",
       "  <tbody>\n",
       "    <tr>\n",
       "      <th>0</th>\n",
       "      <td>Pink Floyd</td>\n",
       "      <td>Another Brick in the Wall (part 2)</td>\n",
       "    </tr>\n",
       "    <tr>\n",
       "      <th>1</th>\n",
       "      <td>Barbra Streisand</td>\n",
       "      <td>A Woman in Love</td>\n",
       "    </tr>\n",
       "    <tr>\n",
       "      <th>2</th>\n",
       "      <td>John Lennon</td>\n",
       "      <td>(Just Like) Starting Over</td>\n",
       "    </tr>\n",
       "    <tr>\n",
       "      <th>3</th>\n",
       "      <td>Diana Ross</td>\n",
       "      <td>Upside Down</td>\n",
       "    </tr>\n",
       "    <tr>\n",
       "      <th>4</th>\n",
       "      <td>Lipps Inc</td>\n",
       "      <td>Funkytown</td>\n",
       "    </tr>\n",
       "  </tbody>\n",
       "</table>\n",
       "</div>"
      ],
      "text/plain": [
       "             artist                                song\n",
       "0        Pink Floyd  Another Brick in the Wall (part 2)\n",
       "1  Barbra Streisand                     A Woman in Love\n",
       "2       John Lennon           (Just Like) Starting Over\n",
       "3        Diana Ross                         Upside Down\n",
       "4         Lipps Inc                           Funkytown"
      ]
     },
     "execution_count": 6,
     "metadata": {},
     "output_type": "execute_result"
    }
   ],
   "source": [
    "repository_pop.head()"
   ]
  },
  {
   "cell_type": "code",
   "execution_count": 7,
   "id": "d87ac4d1",
   "metadata": {},
   "outputs": [
    {
     "data": {
      "text/plain": [
       "(1000, 2)"
      ]
     },
     "execution_count": 7,
     "metadata": {},
     "output_type": "execute_result"
    }
   ],
   "source": [
    "repository_pop.shape"
   ]
  },
  {
   "cell_type": "code",
   "execution_count": 8,
   "id": "dd3bc1f4",
   "metadata": {},
   "outputs": [
    {
     "name": "stdout",
     "output_type": "stream",
     "text": [
      "Status code: 200\n",
      "I will sleep for 1 second/s.\n",
      "Status code: 200\n",
      "I will sleep for 1 second/s.\n",
      "Status code: 200\n",
      "I will sleep for 1 second/s.\n",
      "Status code: 200\n",
      "I will sleep for 1 second/s.\n",
      "Status code: 200\n",
      "I will sleep for 2 second/s.\n",
      "Status code: 200\n",
      "I will sleep for 4 second/s.\n",
      "Status code: 200\n",
      "I will sleep for 3 second/s.\n",
      "Status code: 200\n",
      "I will sleep for 3 second/s.\n",
      "Status code: 200\n",
      "I will sleep for 2 second/s.\n",
      "Status code: 200\n",
      "I will sleep for 3 second/s.\n"
     ]
    }
   ],
   "source": [
    "# Rock Songs of 80's\n",
    "pages_rock = []\n",
    "for i in years:\n",
    "    year= str(i)\n",
    "    url = \"https://playback.fm/charts/rock/\" + year\n",
    "\n",
    "    response = requests.get(url)\n",
    "\n",
    "    print(\"Status code: \" + str(response.status_code))\n",
    "\n",
    "    pages_rock.append(response)\n",
    "\n",
    "    wait_time = randint(1,4)\n",
    "    print(\"I will sleep for \" + str(wait_time) + \" second/s.\")\n",
    "    sleep(wait_time)"
   ]
  },
  {
   "cell_type": "code",
   "execution_count": 9,
   "id": "50f290fb",
   "metadata": {},
   "outputs": [],
   "source": [
    "pages_parsed = []\n",
    "artists = []\n",
    "songs = []\n",
    "for i in range(len(pages_rock)):\n",
    "    pages_parsed.append(BeautifulSoup(pages_rock[i].content, \"html.parser\")) \n",
    "    for j in range(len(pages_parsed[i].select(\".artist\"))):\n",
    "        artists.append(pages_parsed[i].select(\".artist\")[j].get_text().replace('\\n',''))\n",
    "        songs.append(pages_parsed[i].select(\".song\")[2*j].get_text().replace('\\n',''))"
   ]
  },
  {
   "cell_type": "code",
   "execution_count": 10,
   "id": "7278571e",
   "metadata": {},
   "outputs": [],
   "source": [
    "repository_rock = pd.DataFrame({\"artist\":artists,\n",
    "                       \"song\":songs\n",
    "                          })"
   ]
  },
  {
   "cell_type": "code",
   "execution_count": 11,
   "id": "d82a1b3a",
   "metadata": {},
   "outputs": [
    {
     "data": {
      "text/html": [
       "<div>\n",
       "<style scoped>\n",
       "    .dataframe tbody tr th:only-of-type {\n",
       "        vertical-align: middle;\n",
       "    }\n",
       "\n",
       "    .dataframe tbody tr th {\n",
       "        vertical-align: top;\n",
       "    }\n",
       "\n",
       "    .dataframe thead th {\n",
       "        text-align: right;\n",
       "    }\n",
       "</style>\n",
       "<table border=\"1\" class=\"dataframe\">\n",
       "  <thead>\n",
       "    <tr style=\"text-align: right;\">\n",
       "      <th></th>\n",
       "      <th>artist</th>\n",
       "      <th>song</th>\n",
       "    </tr>\n",
       "  </thead>\n",
       "  <tbody>\n",
       "    <tr>\n",
       "      <th>0</th>\n",
       "      <td>REO Speedwagon</td>\n",
       "      <td>Keep On Loving You</td>\n",
       "    </tr>\n",
       "    <tr>\n",
       "      <th>1</th>\n",
       "      <td>The Police</td>\n",
       "      <td>Don't Stand So Close to Me</td>\n",
       "    </tr>\n",
       "    <tr>\n",
       "      <th>2</th>\n",
       "      <td>Pink Floyd</td>\n",
       "      <td>Another Brick in the Wall</td>\n",
       "    </tr>\n",
       "    <tr>\n",
       "      <th>3</th>\n",
       "      <td>The J. Geils Band</td>\n",
       "      <td>Love Stinks</td>\n",
       "    </tr>\n",
       "    <tr>\n",
       "      <th>4</th>\n",
       "      <td>Lipps, Inc</td>\n",
       "      <td>Funkytown</td>\n",
       "    </tr>\n",
       "  </tbody>\n",
       "</table>\n",
       "</div>"
      ],
      "text/plain": [
       "              artist                        song\n",
       "0     REO Speedwagon          Keep On Loving You\n",
       "1         The Police  Don't Stand So Close to Me\n",
       "2         Pink Floyd   Another Brick in the Wall\n",
       "3  The J. Geils Band                 Love Stinks\n",
       "4         Lipps, Inc                   Funkytown"
      ]
     },
     "execution_count": 11,
     "metadata": {},
     "output_type": "execute_result"
    }
   ],
   "source": [
    "repository_rock.head()"
   ]
  },
  {
   "cell_type": "code",
   "execution_count": 12,
   "id": "991b1ae0",
   "metadata": {},
   "outputs": [
    {
     "data": {
      "text/plain": [
       "(1000, 2)"
      ]
     },
     "execution_count": 12,
     "metadata": {},
     "output_type": "execute_result"
    }
   ],
   "source": [
    "repository_rock.shape"
   ]
  },
  {
   "cell_type": "code",
   "execution_count": 13,
   "id": "913868ce",
   "metadata": {},
   "outputs": [],
   "source": [
    "# Billboard_Hot_100_number-one_singles_of_the_1980s\n",
    "url = \"https://en.wikipedia.org/wiki/List_of_Billboard_Hot_100_number-one_singles_of_the_1980s\""
   ]
  },
  {
   "cell_type": "code",
   "execution_count": 14,
   "id": "014253e1",
   "metadata": {},
   "outputs": [
    {
     "data": {
      "text/plain": [
       "200"
      ]
     },
     "execution_count": 14,
     "metadata": {},
     "output_type": "execute_result"
    }
   ],
   "source": [
    "response = requests.get(url)\n",
    "response.status_code"
   ]
  },
  {
   "cell_type": "code",
   "execution_count": 15,
   "id": "e88b95ea",
   "metadata": {},
   "outputs": [],
   "source": [
    "soup = BeautifulSoup(response.content, \"html.parser\")"
   ]
  },
  {
   "cell_type": "code",
   "execution_count": 16,
   "id": "514cb810",
   "metadata": {},
   "outputs": [],
   "source": [
    "prestab=soup.select(\"table\")[2]"
   ]
  },
  {
   "cell_type": "code",
   "execution_count": 17,
   "id": "c3510daa",
   "metadata": {},
   "outputs": [],
   "source": [
    "# prestab.select(\"tr td:nth-child(3)\")"
   ]
  },
  {
   "cell_type": "code",
   "execution_count": 18,
   "id": "17518cff",
   "metadata": {},
   "outputs": [
    {
     "data": {
      "text/plain": [
       "'KC and the Sunshine Band'"
      ]
     },
     "execution_count": 18,
     "metadata": {},
     "output_type": "execute_result"
    }
   ],
   "source": [
    "prestab.select(\"tr td:nth-child(3)\")[0].get_text()"
   ]
  },
  {
   "cell_type": "code",
   "execution_count": 19,
   "id": "5b7f2e10",
   "metadata": {},
   "outputs": [],
   "source": [
    "# prestab.select(\"tr td:nth-child(4) a\")"
   ]
  },
  {
   "cell_type": "code",
   "execution_count": 20,
   "id": "3a6da076",
   "metadata": {},
   "outputs": [
    {
     "data": {
      "text/plain": [
       "\"Please Don't Go\""
      ]
     },
     "execution_count": 20,
     "metadata": {},
     "output_type": "execute_result"
    }
   ],
   "source": [
    "prestab.select(\"tr td:nth-child(4) a\")[0].get_text()"
   ]
  },
  {
   "cell_type": "code",
   "execution_count": 21,
   "id": "2b2cf27e",
   "metadata": {},
   "outputs": [],
   "source": [
    "artists = []\n",
    "songs = []\n",
    "for i in range(len(prestab.select(\"tr td:nth-child(3)\"))):\n",
    "    artists.append(prestab.select(\"tr td:nth-child(3)\")[i].get_text())\n",
    "    songs.append(prestab.select(\"tr td:nth-child(4) a\")[i].get_text())"
   ]
  },
  {
   "cell_type": "code",
   "execution_count": 24,
   "id": "922db1ac",
   "metadata": {},
   "outputs": [],
   "source": [
    "repository_billboard = pd.DataFrame({\"artist\":artists,\n",
    "                       \"song\":songs\n",
    "                          })"
   ]
  },
  {
   "cell_type": "code",
   "execution_count": 26,
   "id": "6f96fb2c",
   "metadata": {},
   "outputs": [
    {
     "data": {
      "text/html": [
       "<div>\n",
       "<style scoped>\n",
       "    .dataframe tbody tr th:only-of-type {\n",
       "        vertical-align: middle;\n",
       "    }\n",
       "\n",
       "    .dataframe tbody tr th {\n",
       "        vertical-align: top;\n",
       "    }\n",
       "\n",
       "    .dataframe thead th {\n",
       "        text-align: right;\n",
       "    }\n",
       "</style>\n",
       "<table border=\"1\" class=\"dataframe\">\n",
       "  <thead>\n",
       "    <tr style=\"text-align: right;\">\n",
       "      <th></th>\n",
       "      <th>artist</th>\n",
       "      <th>song</th>\n",
       "    </tr>\n",
       "  </thead>\n",
       "  <tbody>\n",
       "    <tr>\n",
       "      <th>0</th>\n",
       "      <td>KC and the Sunshine Band</td>\n",
       "      <td>Please Don't Go</td>\n",
       "    </tr>\n",
       "    <tr>\n",
       "      <th>1</th>\n",
       "      <td>Michael Jackson</td>\n",
       "      <td>Rock with You</td>\n",
       "    </tr>\n",
       "    <tr>\n",
       "      <th>2</th>\n",
       "      <td>Captain &amp; Tennille</td>\n",
       "      <td>Do That to Me One More Time</td>\n",
       "    </tr>\n",
       "    <tr>\n",
       "      <th>3</th>\n",
       "      <td>Queen</td>\n",
       "      <td>Crazy Little Thing Called Love</td>\n",
       "    </tr>\n",
       "    <tr>\n",
       "      <th>4</th>\n",
       "      <td>Pink Floyd</td>\n",
       "      <td>Another Brick in the Wall (Part 2)</td>\n",
       "    </tr>\n",
       "  </tbody>\n",
       "</table>\n",
       "</div>"
      ],
      "text/plain": [
       "                     artist                                song\n",
       "0  KC and the Sunshine Band                     Please Don't Go\n",
       "1           Michael Jackson                       Rock with You\n",
       "2        Captain & Tennille         Do That to Me One More Time\n",
       "3                     Queen      Crazy Little Thing Called Love\n",
       "4                Pink Floyd  Another Brick in the Wall (Part 2)"
      ]
     },
     "execution_count": 26,
     "metadata": {},
     "output_type": "execute_result"
    }
   ],
   "source": [
    "repository_billboard.head()"
   ]
  },
  {
   "cell_type": "code",
   "execution_count": 28,
   "id": "019c9e26",
   "metadata": {},
   "outputs": [
    {
     "data": {
      "text/plain": [
       "(231, 2)"
      ]
     },
     "execution_count": 28,
     "metadata": {},
     "output_type": "execute_result"
    }
   ],
   "source": [
    "repository_billboard.shape"
   ]
  },
  {
   "cell_type": "code",
   "execution_count": 29,
   "id": "c0710b7c",
   "metadata": {},
   "outputs": [],
   "source": [
    "repository=pd.concat([repository_pop, repository_rock, repository_billboard])"
   ]
  },
  {
   "cell_type": "code",
   "execution_count": 30,
   "id": "b3026a5e",
   "metadata": {},
   "outputs": [],
   "source": [
    "repository=repository.drop_duplicates()"
   ]
  },
  {
   "cell_type": "code",
   "execution_count": 31,
   "id": "7019f91b",
   "metadata": {},
   "outputs": [],
   "source": [
    "repository=repository.reset_index(drop=True)"
   ]
  },
  {
   "cell_type": "code",
   "execution_count": 32,
   "id": "c9e2e2b1",
   "metadata": {},
   "outputs": [
    {
     "data": {
      "text/plain": [
       "(1849, 2)"
      ]
     },
     "execution_count": 32,
     "metadata": {},
     "output_type": "execute_result"
    }
   ],
   "source": [
    "repository.shape"
   ]
  },
  {
   "cell_type": "code",
   "execution_count": 68,
   "id": "68551bd2",
   "metadata": {},
   "outputs": [],
   "source": [
    "import numpy as np\n",
    "repository.to_csv('songs.csv', index=False)"
   ]
  },
  {
   "cell_type": "code",
   "execution_count": null,
   "id": "f58408a1",
   "metadata": {},
   "outputs": [],
   "source": []
  }
 ],
 "metadata": {
  "kernelspec": {
   "display_name": "Python 3 (ipykernel)",
   "language": "python",
   "name": "python3"
  },
  "language_info": {
   "codemirror_mode": {
    "name": "ipython",
    "version": 3
   },
   "file_extension": ".py",
   "mimetype": "text/x-python",
   "name": "python",
   "nbconvert_exporter": "python",
   "pygments_lexer": "ipython3",
   "version": "3.9.7"
  }
 },
 "nbformat": 4,
 "nbformat_minor": 5
}

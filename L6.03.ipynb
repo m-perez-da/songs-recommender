{
 "cells": [
  {
   "cell_type": "code",
   "execution_count": 50,
   "id": "41c60fd1",
   "metadata": {},
   "outputs": [],
   "source": [
    "# Import requests library\n",
    "import requests\n",
    "import json\n",
    "import pandas as pd\n",
    "from pandas.io.json import json_normalize"
   ]
  },
  {
   "cell_type": "code",
   "execution_count": 51,
   "id": "51e09074",
   "metadata": {},
   "outputs": [],
   "source": [
    "AUTH_URL = 'https://accounts.spotify.com/api/token'"
   ]
  },
  {
   "cell_type": "code",
   "execution_count": 52,
   "id": "7ae1936e",
   "metadata": {},
   "outputs": [
    {
     "name": "stdout",
     "output_type": "stream",
     "text": [
      "········\n"
     ]
    }
   ],
   "source": [
    "import getpass\n",
    "id_secret=getpass.getpass()"
   ]
  },
  {
   "cell_type": "code",
   "execution_count": 53,
   "id": "666faf9d",
   "metadata": {},
   "outputs": [],
   "source": [
    "auth_response = requests.post(AUTH_URL, {\n",
    "    'grant_type': 'client_credentials',\n",
    "    'client_id': '63a66212489e42c085b1e312ba6098ac',\n",
    "    'client_secret': id_secret,\n",
    "})"
   ]
  },
  {
   "cell_type": "code",
   "execution_count": 54,
   "id": "1e79dfec",
   "metadata": {},
   "outputs": [],
   "source": [
    "auth_response_data = auth_response.json()\n",
    "access_token = auth_response_data['access_token']"
   ]
  },
  {
   "cell_type": "code",
   "execution_count": 55,
   "id": "6106074d",
   "metadata": {},
   "outputs": [],
   "source": [
    "headers = {\n",
    "    'Authorization': 'Bearer {token}'.format(token=access_token)\n",
    "}"
   ]
  },
  {
   "cell_type": "code",
   "execution_count": 56,
   "id": "f51d6d7b",
   "metadata": {},
   "outputs": [],
   "source": [
    "BASE_URL = 'https://api.spotify.com/v1/'\n",
    "playlist = requests.get(BASE_URL + 'playlists/5XKt7CsZlmWcDRsxcsUh3m/tracks', headers=headers)\n",
    "#playlist.json()"
   ]
  },
  {
   "cell_type": "code",
   "execution_count": 57,
   "id": "1b591b53",
   "metadata": {},
   "outputs": [],
   "source": [
    "playlist_df = pd.DataFrame(playlist.json())"
   ]
  },
  {
   "cell_type": "code",
   "execution_count": 58,
   "id": "f5fa8422",
   "metadata": {},
   "outputs": [
    {
     "data": {
      "text/html": [
       "<div>\n",
       "<style scoped>\n",
       "    .dataframe tbody tr th:only-of-type {\n",
       "        vertical-align: middle;\n",
       "    }\n",
       "\n",
       "    .dataframe tbody tr th {\n",
       "        vertical-align: top;\n",
       "    }\n",
       "\n",
       "    .dataframe thead th {\n",
       "        text-align: right;\n",
       "    }\n",
       "</style>\n",
       "<table border=\"1\" class=\"dataframe\">\n",
       "  <thead>\n",
       "    <tr style=\"text-align: right;\">\n",
       "      <th></th>\n",
       "      <th>href</th>\n",
       "      <th>items</th>\n",
       "      <th>limit</th>\n",
       "      <th>next</th>\n",
       "      <th>offset</th>\n",
       "      <th>previous</th>\n",
       "      <th>total</th>\n",
       "    </tr>\n",
       "  </thead>\n",
       "  <tbody>\n",
       "    <tr>\n",
       "      <th>0</th>\n",
       "      <td>https://api.spotify.com/v1/playlists/5XKt7CsZl...</td>\n",
       "      <td>{'added_at': '2014-10-03T01:52:20Z', 'added_by...</td>\n",
       "      <td>100</td>\n",
       "      <td>https://api.spotify.com/v1/playlists/5XKt7CsZl...</td>\n",
       "      <td>0</td>\n",
       "      <td>None</td>\n",
       "      <td>130</td>\n",
       "    </tr>\n",
       "    <tr>\n",
       "      <th>1</th>\n",
       "      <td>https://api.spotify.com/v1/playlists/5XKt7CsZl...</td>\n",
       "      <td>{'added_at': '2014-10-03T01:52:47Z', 'added_by...</td>\n",
       "      <td>100</td>\n",
       "      <td>https://api.spotify.com/v1/playlists/5XKt7CsZl...</td>\n",
       "      <td>0</td>\n",
       "      <td>None</td>\n",
       "      <td>130</td>\n",
       "    </tr>\n",
       "    <tr>\n",
       "      <th>2</th>\n",
       "      <td>https://api.spotify.com/v1/playlists/5XKt7CsZl...</td>\n",
       "      <td>{'added_at': '2014-10-03T01:52:59Z', 'added_by...</td>\n",
       "      <td>100</td>\n",
       "      <td>https://api.spotify.com/v1/playlists/5XKt7CsZl...</td>\n",
       "      <td>0</td>\n",
       "      <td>None</td>\n",
       "      <td>130</td>\n",
       "    </tr>\n",
       "    <tr>\n",
       "      <th>3</th>\n",
       "      <td>https://api.spotify.com/v1/playlists/5XKt7CsZl...</td>\n",
       "      <td>{'added_at': '2014-10-03T01:53:15Z', 'added_by...</td>\n",
       "      <td>100</td>\n",
       "      <td>https://api.spotify.com/v1/playlists/5XKt7CsZl...</td>\n",
       "      <td>0</td>\n",
       "      <td>None</td>\n",
       "      <td>130</td>\n",
       "    </tr>\n",
       "    <tr>\n",
       "      <th>4</th>\n",
       "      <td>https://api.spotify.com/v1/playlists/5XKt7CsZl...</td>\n",
       "      <td>{'added_at': '2014-10-03T01:53:19Z', 'added_by...</td>\n",
       "      <td>100</td>\n",
       "      <td>https://api.spotify.com/v1/playlists/5XKt7CsZl...</td>\n",
       "      <td>0</td>\n",
       "      <td>None</td>\n",
       "      <td>130</td>\n",
       "    </tr>\n",
       "  </tbody>\n",
       "</table>\n",
       "</div>"
      ],
      "text/plain": [
       "                                                href  \\\n",
       "0  https://api.spotify.com/v1/playlists/5XKt7CsZl...   \n",
       "1  https://api.spotify.com/v1/playlists/5XKt7CsZl...   \n",
       "2  https://api.spotify.com/v1/playlists/5XKt7CsZl...   \n",
       "3  https://api.spotify.com/v1/playlists/5XKt7CsZl...   \n",
       "4  https://api.spotify.com/v1/playlists/5XKt7CsZl...   \n",
       "\n",
       "                                               items  limit  \\\n",
       "0  {'added_at': '2014-10-03T01:52:20Z', 'added_by...    100   \n",
       "1  {'added_at': '2014-10-03T01:52:47Z', 'added_by...    100   \n",
       "2  {'added_at': '2014-10-03T01:52:59Z', 'added_by...    100   \n",
       "3  {'added_at': '2014-10-03T01:53:15Z', 'added_by...    100   \n",
       "4  {'added_at': '2014-10-03T01:53:19Z', 'added_by...    100   \n",
       "\n",
       "                                                next  offset previous  total  \n",
       "0  https://api.spotify.com/v1/playlists/5XKt7CsZl...       0     None    130  \n",
       "1  https://api.spotify.com/v1/playlists/5XKt7CsZl...       0     None    130  \n",
       "2  https://api.spotify.com/v1/playlists/5XKt7CsZl...       0     None    130  \n",
       "3  https://api.spotify.com/v1/playlists/5XKt7CsZl...       0     None    130  \n",
       "4  https://api.spotify.com/v1/playlists/5XKt7CsZl...       0     None    130  "
      ]
     },
     "execution_count": 58,
     "metadata": {},
     "output_type": "execute_result"
    }
   ],
   "source": [
    "playlist_df.head()"
   ]
  },
  {
   "cell_type": "code",
   "execution_count": 59,
   "id": "b12c05eb",
   "metadata": {},
   "outputs": [],
   "source": [
    "total_songs=playlist_df.loc[0,:][6]"
   ]
  },
  {
   "cell_type": "code",
   "execution_count": 60,
   "id": "cbe41a9a",
   "metadata": {},
   "outputs": [
    {
     "data": {
      "text/plain": [
       "130"
      ]
     },
     "execution_count": 60,
     "metadata": {},
     "output_type": "execute_result"
    }
   ],
   "source": [
    "total_songs"
   ]
  },
  {
   "cell_type": "code",
   "execution_count": 61,
   "id": "6fcfefd9",
   "metadata": {},
   "outputs": [],
   "source": [
    "number_songs=0"
   ]
  },
  {
   "cell_type": "code",
   "execution_count": 62,
   "id": "b007d5c3",
   "metadata": {},
   "outputs": [],
   "source": [
    "artists=[]\n",
    "songs=[]\n",
    "track_ids=[]"
   ]
  },
  {
   "cell_type": "code",
   "execution_count": 63,
   "id": "0564280a",
   "metadata": {},
   "outputs": [
    {
     "name": "stderr",
     "output_type": "stream",
     "text": [
      "C:\\Users\\Usuario\\AppData\\Local\\Temp/ipykernel_1924/2684746459.py:3: FutureWarning: pandas.io.json.json_normalize is deprecated, use pandas.json_normalize instead\n",
      "  playlist_norm = json_normalize(playlist_df['items'])\n"
     ]
    }
   ],
   "source": [
    "# read actual request (100 songs) and additional results (if exists)\n",
    "while number_songs < total_songs:\n",
    "    playlist_norm = json_normalize(playlist_df['items'])\n",
    " #   playlist_norm.columns\n",
    "    for item in range(len(playlist_norm['track.name'])):\n",
    "        artists.append(playlist_norm['track.artists'][item][0]['name'])\n",
    "        songs.append(playlist_norm['track.name'][item])\n",
    "        track_ids.append(playlist_norm['track.id'][item])\n",
    "    if (total_songs-number_songs)<100:\n",
    "        break\n",
    "    playlist = requests.get(playlist_df.loc[0,:][3], headers=headers)\n",
    "    playlist_df = pd.DataFrame(playlist.json())\n",
    "    number_songs+=100"
   ]
  },
  {
   "cell_type": "code",
   "execution_count": 66,
   "id": "942c47e6",
   "metadata": {},
   "outputs": [
    {
     "data": {
      "text/plain": [
       "130"
      ]
     },
     "execution_count": 66,
     "metadata": {},
     "output_type": "execute_result"
    }
   ],
   "source": [
    "len(songs)"
   ]
  },
  {
   "cell_type": "code",
   "execution_count": 67,
   "id": "65bb5d3a",
   "metadata": {},
   "outputs": [],
   "source": [
    "repository = pd.DataFrame({\"artist\":artists,\n",
    "                       \"song\":songs,\n",
    "                           \"track_id\": track_ids\n",
    "                          })"
   ]
  },
  {
   "cell_type": "code",
   "execution_count": 68,
   "id": "2f3f2977",
   "metadata": {},
   "outputs": [
    {
     "data": {
      "text/html": [
       "<div>\n",
       "<style scoped>\n",
       "    .dataframe tbody tr th:only-of-type {\n",
       "        vertical-align: middle;\n",
       "    }\n",
       "\n",
       "    .dataframe tbody tr th {\n",
       "        vertical-align: top;\n",
       "    }\n",
       "\n",
       "    .dataframe thead th {\n",
       "        text-align: right;\n",
       "    }\n",
       "</style>\n",
       "<table border=\"1\" class=\"dataframe\">\n",
       "  <thead>\n",
       "    <tr style=\"text-align: right;\">\n",
       "      <th></th>\n",
       "      <th>artist</th>\n",
       "      <th>song</th>\n",
       "      <th>track_id</th>\n",
       "    </tr>\n",
       "  </thead>\n",
       "  <tbody>\n",
       "    <tr>\n",
       "      <th>0</th>\n",
       "      <td>Prince</td>\n",
       "      <td>When Doves Cry</td>\n",
       "      <td>6ZB15yAQctgJLoM3zz2DWA</td>\n",
       "    </tr>\n",
       "    <tr>\n",
       "      <th>1</th>\n",
       "      <td>Irene Cara</td>\n",
       "      <td>Fame - From \"Fame\" Original Motion Picture Sou...</td>\n",
       "      <td>45StDg3fxr2BEc1AyyvtTJ</td>\n",
       "    </tr>\n",
       "    <tr>\n",
       "      <th>2</th>\n",
       "      <td>Bananarama</td>\n",
       "      <td>Venus</td>\n",
       "      <td>6KqWBiEZxRmPPGDc0PkRoV</td>\n",
       "    </tr>\n",
       "    <tr>\n",
       "      <th>3</th>\n",
       "      <td>a-ha</td>\n",
       "      <td>Take On Me</td>\n",
       "      <td>1nbMkRhfldXcmCyB83x8lK</td>\n",
       "    </tr>\n",
       "    <tr>\n",
       "      <th>4</th>\n",
       "      <td>Madonna</td>\n",
       "      <td>Material Girl</td>\n",
       "      <td>7F2b4lHBr8V7JzNbN1ipCe</td>\n",
       "    </tr>\n",
       "  </tbody>\n",
       "</table>\n",
       "</div>"
      ],
      "text/plain": [
       "       artist                                               song  \\\n",
       "0      Prince                                     When Doves Cry   \n",
       "1  Irene Cara  Fame - From \"Fame\" Original Motion Picture Sou...   \n",
       "2  Bananarama                                              Venus   \n",
       "3        a-ha                                         Take On Me   \n",
       "4     Madonna                                      Material Girl   \n",
       "\n",
       "                 track_id  \n",
       "0  6ZB15yAQctgJLoM3zz2DWA  \n",
       "1  45StDg3fxr2BEc1AyyvtTJ  \n",
       "2  6KqWBiEZxRmPPGDc0PkRoV  \n",
       "3  1nbMkRhfldXcmCyB83x8lK  \n",
       "4  7F2b4lHBr8V7JzNbN1ipCe  "
      ]
     },
     "execution_count": 68,
     "metadata": {},
     "output_type": "execute_result"
    }
   ],
   "source": [
    "repository.head()"
   ]
  },
  {
   "cell_type": "code",
   "execution_count": 69,
   "id": "47d1d39b",
   "metadata": {},
   "outputs": [
    {
     "data": {
      "text/plain": [
       "130"
      ]
     },
     "execution_count": 69,
     "metadata": {},
     "output_type": "execute_result"
    }
   ],
   "source": [
    "len(repository)"
   ]
  },
  {
   "cell_type": "code",
   "execution_count": 70,
   "id": "07a23263",
   "metadata": {},
   "outputs": [],
   "source": [
    "repository.to_csv('spotify_playlist.csv')"
   ]
  }
 ],
 "metadata": {
  "kernelspec": {
   "display_name": "Python 3 (ipykernel)",
   "language": "python",
   "name": "python3"
  },
  "language_info": {
   "codemirror_mode": {
    "name": "ipython",
    "version": 3
   },
   "file_extension": ".py",
   "mimetype": "text/x-python",
   "name": "python",
   "nbconvert_exporter": "python",
   "pygments_lexer": "ipython3",
   "version": "3.9.7"
  }
 },
 "nbformat": 4,
 "nbformat_minor": 5
}

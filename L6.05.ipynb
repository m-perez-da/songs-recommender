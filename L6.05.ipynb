{
 "cells": [
  {
   "cell_type": "code",
   "execution_count": 1,
   "id": "8b82d175",
   "metadata": {},
   "outputs": [],
   "source": [
    "# K-means\n",
    "import numpy as np\n",
    "import pandas as pd\n",
    "import matplotlib.pyplot as plt\n",
    "\n",
    "from sklearn import cluster, datasets\n",
    "from sklearn.preprocessing import StandardScaler\n",
    "from matplotlib.lines import Line2D\n",
    "import joblib\n",
    "from joblib import dump, load"
   ]
  },
  {
   "cell_type": "code",
   "execution_count": 2,
   "id": "52dfe7ef",
   "metadata": {},
   "outputs": [],
   "source": [
    "repository = pd.read_csv('list_with_audio_features.csv')"
   ]
  },
  {
   "cell_type": "code",
   "execution_count": 3,
   "id": "929e4337",
   "metadata": {},
   "outputs": [
    {
     "data": {
      "text/html": [
       "<div>\n",
       "<style scoped>\n",
       "    .dataframe tbody tr th:only-of-type {\n",
       "        vertical-align: middle;\n",
       "    }\n",
       "\n",
       "    .dataframe tbody tr th {\n",
       "        vertical-align: top;\n",
       "    }\n",
       "\n",
       "    .dataframe thead th {\n",
       "        text-align: right;\n",
       "    }\n",
       "</style>\n",
       "<table border=\"1\" class=\"dataframe\">\n",
       "  <thead>\n",
       "    <tr style=\"text-align: right;\">\n",
       "      <th></th>\n",
       "      <th>Unnamed: 0</th>\n",
       "      <th>artist</th>\n",
       "      <th>song</th>\n",
       "      <th>uri</th>\n",
       "      <th>danceability</th>\n",
       "      <th>energy</th>\n",
       "      <th>key</th>\n",
       "      <th>loudness</th>\n",
       "      <th>mode</th>\n",
       "      <th>speechiness</th>\n",
       "      <th>acousticness</th>\n",
       "      <th>instrumentalness</th>\n",
       "      <th>liveness</th>\n",
       "      <th>valence</th>\n",
       "      <th>tempo</th>\n",
       "      <th>duration_ms</th>\n",
       "      <th>time_signature</th>\n",
       "    </tr>\n",
       "  </thead>\n",
       "  <tbody>\n",
       "    <tr>\n",
       "      <th>0</th>\n",
       "      <td>0</td>\n",
       "      <td>pink floyd</td>\n",
       "      <td>another brick in the wall (part 2)</td>\n",
       "      <td>spotify:track:1xUTI8Ce8IQnyYCGPmrbzS</td>\n",
       "      <td>0.395</td>\n",
       "      <td>0.766</td>\n",
       "      <td>0</td>\n",
       "      <td>-11.041</td>\n",
       "      <td>1</td>\n",
       "      <td>0.0512</td>\n",
       "      <td>0.00583</td>\n",
       "      <td>0.006240</td>\n",
       "      <td>0.7740</td>\n",
       "      <td>0.611</td>\n",
       "      <td>105.410</td>\n",
       "      <td>326373</td>\n",
       "      <td>4</td>\n",
       "    </tr>\n",
       "    <tr>\n",
       "      <th>1</th>\n",
       "      <td>1</td>\n",
       "      <td>barbra streisand</td>\n",
       "      <td>a woman in love</td>\n",
       "      <td>spotify:track:53No4na49hTw82MxrFh2PB</td>\n",
       "      <td>0.489</td>\n",
       "      <td>0.245</td>\n",
       "      <td>3</td>\n",
       "      <td>-16.876</td>\n",
       "      <td>0</td>\n",
       "      <td>0.0284</td>\n",
       "      <td>0.43000</td>\n",
       "      <td>0.000015</td>\n",
       "      <td>0.2980</td>\n",
       "      <td>0.333</td>\n",
       "      <td>169.747</td>\n",
       "      <td>230227</td>\n",
       "      <td>4</td>\n",
       "    </tr>\n",
       "    <tr>\n",
       "      <th>2</th>\n",
       "      <td>2</td>\n",
       "      <td>john lennon</td>\n",
       "      <td>(just like) starting over</td>\n",
       "      <td>spotify:track:5y0YreEOnQiKFAnCrcFIXz</td>\n",
       "      <td>0.701</td>\n",
       "      <td>0.790</td>\n",
       "      <td>9</td>\n",
       "      <td>-6.160</td>\n",
       "      <td>1</td>\n",
       "      <td>0.0725</td>\n",
       "      <td>0.30100</td>\n",
       "      <td>0.000061</td>\n",
       "      <td>0.1790</td>\n",
       "      <td>0.421</td>\n",
       "      <td>99.104</td>\n",
       "      <td>236547</td>\n",
       "      <td>4</td>\n",
       "    </tr>\n",
       "    <tr>\n",
       "      <th>3</th>\n",
       "      <td>3</td>\n",
       "      <td>diana ross</td>\n",
       "      <td>upside down</td>\n",
       "      <td>spotify:track:3pbtBomO4Zt5gGiqsYeiBH</td>\n",
       "      <td>0.873</td>\n",
       "      <td>0.855</td>\n",
       "      <td>5</td>\n",
       "      <td>-8.559</td>\n",
       "      <td>0</td>\n",
       "      <td>0.0615</td>\n",
       "      <td>0.17900</td>\n",
       "      <td>0.028500</td>\n",
       "      <td>0.0377</td>\n",
       "      <td>0.884</td>\n",
       "      <td>107.868</td>\n",
       "      <td>245600</td>\n",
       "      <td>4</td>\n",
       "    </tr>\n",
       "    <tr>\n",
       "      <th>4</th>\n",
       "      <td>4</td>\n",
       "      <td>lipps inc</td>\n",
       "      <td>funkytown</td>\n",
       "      <td>spotify:track:5dIKF6uVJ206hj0pO0gg0I</td>\n",
       "      <td>0.893</td>\n",
       "      <td>0.509</td>\n",
       "      <td>0</td>\n",
       "      <td>-10.136</td>\n",
       "      <td>1</td>\n",
       "      <td>0.0659</td>\n",
       "      <td>0.00154</td>\n",
       "      <td>0.515000</td>\n",
       "      <td>0.0783</td>\n",
       "      <td>0.334</td>\n",
       "      <td>122.478</td>\n",
       "      <td>469347</td>\n",
       "      <td>4</td>\n",
       "    </tr>\n",
       "  </tbody>\n",
       "</table>\n",
       "</div>"
      ],
      "text/plain": [
       "   Unnamed: 0            artist                                song  \\\n",
       "0           0        pink floyd  another brick in the wall (part 2)   \n",
       "1           1  barbra streisand                     a woman in love   \n",
       "2           2       john lennon           (just like) starting over   \n",
       "3           3        diana ross                         upside down   \n",
       "4           4         lipps inc                           funkytown   \n",
       "\n",
       "                                    uri  danceability  energy  key  loudness  \\\n",
       "0  spotify:track:1xUTI8Ce8IQnyYCGPmrbzS         0.395   0.766    0   -11.041   \n",
       "1  spotify:track:53No4na49hTw82MxrFh2PB         0.489   0.245    3   -16.876   \n",
       "2  spotify:track:5y0YreEOnQiKFAnCrcFIXz         0.701   0.790    9    -6.160   \n",
       "3  spotify:track:3pbtBomO4Zt5gGiqsYeiBH         0.873   0.855    5    -8.559   \n",
       "4  spotify:track:5dIKF6uVJ206hj0pO0gg0I         0.893   0.509    0   -10.136   \n",
       "\n",
       "   mode  speechiness  acousticness  instrumentalness  liveness  valence  \\\n",
       "0     1       0.0512       0.00583          0.006240    0.7740    0.611   \n",
       "1     0       0.0284       0.43000          0.000015    0.2980    0.333   \n",
       "2     1       0.0725       0.30100          0.000061    0.1790    0.421   \n",
       "3     0       0.0615       0.17900          0.028500    0.0377    0.884   \n",
       "4     1       0.0659       0.00154          0.515000    0.0783    0.334   \n",
       "\n",
       "     tempo  duration_ms  time_signature  \n",
       "0  105.410       326373               4  \n",
       "1  169.747       230227               4  \n",
       "2   99.104       236547               4  \n",
       "3  107.868       245600               4  \n",
       "4  122.478       469347               4  "
      ]
     },
     "execution_count": 3,
     "metadata": {},
     "output_type": "execute_result"
    }
   ],
   "source": [
    "repository.head()"
   ]
  },
  {
   "cell_type": "code",
   "execution_count": 4,
   "id": "e60446ad",
   "metadata": {},
   "outputs": [
    {
     "data": {
      "text/plain": [
       "(1756, 17)"
      ]
     },
     "execution_count": 4,
     "metadata": {},
     "output_type": "execute_result"
    }
   ],
   "source": [
    "repository.shape"
   ]
  },
  {
   "cell_type": "code",
   "execution_count": 5,
   "id": "ec369d67",
   "metadata": {},
   "outputs": [],
   "source": [
    "repository=repository.drop(['Unnamed: 0'], axis=1)\n",
    "X=repository.copy()"
   ]
  },
  {
   "cell_type": "code",
   "execution_count": 6,
   "id": "e2e876b6",
   "metadata": {},
   "outputs": [],
   "source": [
    "X=repository.drop(['artist', 'song', 'uri'], axis=1)"
   ]
  },
  {
   "cell_type": "code",
   "execution_count": 7,
   "id": "4065c09d",
   "metadata": {},
   "outputs": [
    {
     "data": {
      "text/html": [
       "<div>\n",
       "<style scoped>\n",
       "    .dataframe tbody tr th:only-of-type {\n",
       "        vertical-align: middle;\n",
       "    }\n",
       "\n",
       "    .dataframe tbody tr th {\n",
       "        vertical-align: top;\n",
       "    }\n",
       "\n",
       "    .dataframe thead th {\n",
       "        text-align: right;\n",
       "    }\n",
       "</style>\n",
       "<table border=\"1\" class=\"dataframe\">\n",
       "  <thead>\n",
       "    <tr style=\"text-align: right;\">\n",
       "      <th></th>\n",
       "      <th>danceability</th>\n",
       "      <th>energy</th>\n",
       "      <th>key</th>\n",
       "      <th>loudness</th>\n",
       "      <th>mode</th>\n",
       "      <th>speechiness</th>\n",
       "      <th>acousticness</th>\n",
       "      <th>instrumentalness</th>\n",
       "      <th>liveness</th>\n",
       "      <th>valence</th>\n",
       "      <th>tempo</th>\n",
       "      <th>duration_ms</th>\n",
       "      <th>time_signature</th>\n",
       "    </tr>\n",
       "  </thead>\n",
       "  <tbody>\n",
       "    <tr>\n",
       "      <th>0</th>\n",
       "      <td>0.395</td>\n",
       "      <td>0.766</td>\n",
       "      <td>0</td>\n",
       "      <td>-11.041</td>\n",
       "      <td>1</td>\n",
       "      <td>0.0512</td>\n",
       "      <td>0.00583</td>\n",
       "      <td>0.006240</td>\n",
       "      <td>0.7740</td>\n",
       "      <td>0.611</td>\n",
       "      <td>105.410</td>\n",
       "      <td>326373</td>\n",
       "      <td>4</td>\n",
       "    </tr>\n",
       "    <tr>\n",
       "      <th>1</th>\n",
       "      <td>0.489</td>\n",
       "      <td>0.245</td>\n",
       "      <td>3</td>\n",
       "      <td>-16.876</td>\n",
       "      <td>0</td>\n",
       "      <td>0.0284</td>\n",
       "      <td>0.43000</td>\n",
       "      <td>0.000015</td>\n",
       "      <td>0.2980</td>\n",
       "      <td>0.333</td>\n",
       "      <td>169.747</td>\n",
       "      <td>230227</td>\n",
       "      <td>4</td>\n",
       "    </tr>\n",
       "    <tr>\n",
       "      <th>2</th>\n",
       "      <td>0.701</td>\n",
       "      <td>0.790</td>\n",
       "      <td>9</td>\n",
       "      <td>-6.160</td>\n",
       "      <td>1</td>\n",
       "      <td>0.0725</td>\n",
       "      <td>0.30100</td>\n",
       "      <td>0.000061</td>\n",
       "      <td>0.1790</td>\n",
       "      <td>0.421</td>\n",
       "      <td>99.104</td>\n",
       "      <td>236547</td>\n",
       "      <td>4</td>\n",
       "    </tr>\n",
       "    <tr>\n",
       "      <th>3</th>\n",
       "      <td>0.873</td>\n",
       "      <td>0.855</td>\n",
       "      <td>5</td>\n",
       "      <td>-8.559</td>\n",
       "      <td>0</td>\n",
       "      <td>0.0615</td>\n",
       "      <td>0.17900</td>\n",
       "      <td>0.028500</td>\n",
       "      <td>0.0377</td>\n",
       "      <td>0.884</td>\n",
       "      <td>107.868</td>\n",
       "      <td>245600</td>\n",
       "      <td>4</td>\n",
       "    </tr>\n",
       "    <tr>\n",
       "      <th>4</th>\n",
       "      <td>0.893</td>\n",
       "      <td>0.509</td>\n",
       "      <td>0</td>\n",
       "      <td>-10.136</td>\n",
       "      <td>1</td>\n",
       "      <td>0.0659</td>\n",
       "      <td>0.00154</td>\n",
       "      <td>0.515000</td>\n",
       "      <td>0.0783</td>\n",
       "      <td>0.334</td>\n",
       "      <td>122.478</td>\n",
       "      <td>469347</td>\n",
       "      <td>4</td>\n",
       "    </tr>\n",
       "  </tbody>\n",
       "</table>\n",
       "</div>"
      ],
      "text/plain": [
       "   danceability  energy  key  loudness  mode  speechiness  acousticness  \\\n",
       "0         0.395   0.766    0   -11.041     1       0.0512       0.00583   \n",
       "1         0.489   0.245    3   -16.876     0       0.0284       0.43000   \n",
       "2         0.701   0.790    9    -6.160     1       0.0725       0.30100   \n",
       "3         0.873   0.855    5    -8.559     0       0.0615       0.17900   \n",
       "4         0.893   0.509    0   -10.136     1       0.0659       0.00154   \n",
       "\n",
       "   instrumentalness  liveness  valence    tempo  duration_ms  time_signature  \n",
       "0          0.006240    0.7740    0.611  105.410       326373               4  \n",
       "1          0.000015    0.2980    0.333  169.747       230227               4  \n",
       "2          0.000061    0.1790    0.421   99.104       236547               4  \n",
       "3          0.028500    0.0377    0.884  107.868       245600               4  \n",
       "4          0.515000    0.0783    0.334  122.478       469347               4  "
      ]
     },
     "execution_count": 7,
     "metadata": {},
     "output_type": "execute_result"
    }
   ],
   "source": [
    "X.head()"
   ]
  },
  {
   "cell_type": "code",
   "execution_count": 8,
   "id": "88328fbc",
   "metadata": {},
   "outputs": [],
   "source": [
    "from sklearn.preprocessing import StandardScaler\n",
    "scaler=StandardScaler().fit(X)\n",
    "X_scaled = scaler.fit_transform(X)"
   ]
  },
  {
   "cell_type": "code",
   "execution_count": 9,
   "id": "4e59577d",
   "metadata": {},
   "outputs": [],
   "source": [
    "from sklearn.cluster import KMeans"
   ]
  },
  {
   "cell_type": "code",
   "execution_count": 9,
   "id": "f4025b3d",
   "metadata": {},
   "outputs": [
    {
     "data": {
      "text/plain": [
       "Text(0.5, 1.0, 'Elbow Method showing the optimal k')"
      ]
     },
     "execution_count": 9,
     "metadata": {},
     "output_type": "execute_result"
    },
    {
     "data": {
      "image/png": "[encoded data removed]",
      "text/plain": [
       "<Figure size 1152x576 with 1 Axes>"
      ]
     },
     "metadata": {
      "needs_background": "light"
     },
     "output_type": "display_data"
    }
   ],
   "source": [
    "K = range(2, 20)\n",
    "inertia = []\n",
    "\n",
    "for k in K:\n",
    "    kmeans = KMeans(n_clusters=k,\n",
    "                    random_state=1234)\n",
    "    kmeans.fit(X_scaled)\n",
    "    inertia.append(kmeans.inertia_)\n",
    "\n",
    "import matplotlib.pyplot as plt\n",
    "%matplotlib inline\n",
    "\n",
    "plt.figure(figsize=(16,8))\n",
    "plt.plot(K, inertia, 'bx-')\n",
    "plt.xlabel('k')\n",
    "plt.ylabel('inertia')\n",
    "plt.xticks(np.arange(min(K), max(K)+1, 1.0))\n",
    "plt.title('Elbow Method showing the optimal k')"
   ]
  },
  {
   "cell_type": "code",
   "execution_count": 10,
   "id": "13613991",
   "metadata": {},
   "outputs": [
    {
     "data": {
      "text/plain": [
       "Text(0.5, 1.0, 'Slhouette score showing the optimal k')"
      ]
     },
     "execution_count": 10,
     "metadata": {},
     "output_type": "execute_result"
    },
    {
     "data": {
      "image/png": "[encoded data removed]",
      "text/plain": [
       "<Figure size 1152x576 with 1 Axes>"
      ]
     },
     "metadata": {
      "needs_background": "light"
     },
     "output_type": "display_data"
    }
   ],
   "source": [
    "from sklearn.metrics import silhouette_score\n",
    "K = range(2, 20)\n",
    "silhouette = []\n",
    "\n",
    "for k in K:\n",
    "    kmeans = KMeans(n_clusters=k,\n",
    "                    random_state=1234)\n",
    "    kmeans.fit(X_scaled)\n",
    "    silhouette.append(silhouette_score(X_scaled, kmeans.predict(X_scaled)))\n",
    "\n",
    "\n",
    "plt.figure(figsize=(16,8))\n",
    "plt.plot(K, silhouette, 'bx-')\n",
    "plt.xlabel('k')\n",
    "plt.ylabel('silhouette score')\n",
    "plt.xticks(np.arange(min(K), max(K)+1, 1.0))\n",
    "plt.title('Slhouette score showing the optimal k')"
   ]
  },
  {
   "cell_type": "code",
   "execution_count": 10,
   "id": "94e316e0",
   "metadata": {},
   "outputs": [
    {
     "data": {
      "text/plain": [
       "KMeans(n_clusters=6, random_state=1234)"
      ]
     },
     "execution_count": 10,
     "metadata": {},
     "output_type": "execute_result"
    }
   ],
   "source": [
    "# According to graphs, 6 clusters may be the optimal number\n",
    "kmeans = KMeans(n_clusters=6, random_state=1234)\n",
    "kmeans.fit(X_scaled)"
   ]
  },
  {
   "cell_type": "code",
   "execution_count": 11,
   "id": "7c374131",
   "metadata": {},
   "outputs": [
    {
     "data": {
      "text/plain": [
       "(1756, 13)"
      ]
     },
     "execution_count": 11,
     "metadata": {},
     "output_type": "execute_result"
    }
   ],
   "source": [
    "X_scaled.shape"
   ]
  },
  {
   "cell_type": "code",
   "execution_count": 12,
   "id": "eca9b929",
   "metadata": {},
   "outputs": [
    {
     "data": {
      "text/plain": [
       "['scaler.bin']"
      ]
     },
     "execution_count": 12,
     "metadata": {},
     "output_type": "execute_result"
    }
   ],
   "source": [
    "joblib.dump(scaler, 'scaler.bin')"
   ]
  },
  {
   "cell_type": "code",
   "execution_count": 13,
   "id": "b903c183",
   "metadata": {},
   "outputs": [
    {
     "data": {
      "text/plain": [
       "['kmeans.bin']"
      ]
     },
     "execution_count": 13,
     "metadata": {},
     "output_type": "execute_result"
    }
   ],
   "source": [
    "dump(kmeans, 'kmeans.bin')"
   ]
  },
  {
   "cell_type": "code",
   "execution_count": 14,
   "id": "56b0bdb7",
   "metadata": {},
   "outputs": [
    {
     "data": {
      "text/plain": [
       "0     79\n",
       "1    652\n",
       "2    290\n",
       "3    326\n",
       "4     29\n",
       "5    380\n",
       "dtype: int64"
      ]
     },
     "execution_count": 14,
     "metadata": {},
     "output_type": "execute_result"
    }
   ],
   "source": [
    "clusters = kmeans.predict(X_scaled)\n",
    "\n",
    "# Check the size of the clusters\n",
    "pd.Series(clusters).value_counts().sort_index()"
   ]
  },
  {
   "cell_type": "code",
   "execution_count": 15,
   "id": "4cd0b0f4",
   "metadata": {},
   "outputs": [
    {
     "data": {
      "text/plain": [
       "14746.536536832296"
      ]
     },
     "execution_count": 15,
     "metadata": {},
     "output_type": "execute_result"
    }
   ],
   "source": [
    "kmeans.inertia_ "
   ]
  },
  {
   "cell_type": "code",
   "execution_count": null,
   "id": "ee52e650",
   "metadata": {},
   "outputs": [],
   "source": []
  },
  {
   "cell_type": "code",
   "execution_count": 16,
   "id": "96d726e4",
   "metadata": {},
   "outputs": [],
   "source": [
    "# adding information of clusters to repository\n",
    "repository['cluster']=clusters"
   ]
  },
  {
   "cell_type": "code",
   "execution_count": 16,
   "id": "4cab7e78",
   "metadata": {},
   "outputs": [],
   "source": [
    "# Testing agglomerative clustering"
   ]
  },
  {
   "cell_type": "code",
   "execution_count": 17,
   "id": "edda973b",
   "metadata": {},
   "outputs": [],
   "source": [
    "from sklearn import cluster"
   ]
  },
  {
   "cell_type": "code",
   "execution_count": 18,
   "id": "0fb96a0e",
   "metadata": {},
   "outputs": [],
   "source": [
    "# I am not sure if this is the best method of aggregation. The other methods return clusters with big differences \n",
    "# between them (some clusters with most of the elements inside, while other clusters are almost empty)  \n",
    "agglomerative = cluster.AgglomerativeClustering(n_clusters=6,linkage='ward')\n",
    "pred = agglomerative.fit_predict(X)"
   ]
  },
  {
   "cell_type": "code",
   "execution_count": 19,
   "id": "cfef2f4c",
   "metadata": {},
   "outputs": [],
   "source": [
    "# aggregates almost all elements in 1 cluster\n",
    "agglomerative = cluster.AgglomerativeClustering(n_clusters=6,linkage='complete')\n",
    "pred = agglomerative.fit_predict(X)"
   ]
  },
  {
   "cell_type": "code",
   "execution_count": 20,
   "id": "56999c80",
   "metadata": {},
   "outputs": [],
   "source": [
    "# aggregates almost all elements in 1 cluster\n",
    "agglomerative = cluster.AgglomerativeClustering(n_clusters=6,linkage='average')\n",
    "pred = agglomerative.fit_predict(X)"
   ]
  },
  {
   "cell_type": "code",
   "execution_count": 22,
   "id": "44c23208",
   "metadata": {},
   "outputs": [],
   "source": [
    "X['cluster2']=pred"
   ]
  },
  {
   "cell_type": "code",
   "execution_count": 23,
   "id": "794232c4",
   "metadata": {},
   "outputs": [
    {
     "data": {
      "text/plain": [
       "0    1680\n",
       "1      64\n",
       "2       9\n",
       "3       1\n",
       "5       1\n",
       "4       1\n",
       "Name: cluster2, dtype: int64"
      ]
     },
     "execution_count": 23,
     "metadata": {},
     "output_type": "execute_result"
    }
   ],
   "source": [
    "X['cluster2'].value_counts()"
   ]
  },
  {
   "cell_type": "code",
   "execution_count": 24,
   "id": "484420c0",
   "metadata": {},
   "outputs": [],
   "source": [
    "# I don't know if agglomerative clustering is better than KMeans clustering. I'm going to use this last method for clustering."
   ]
  },
  {
   "cell_type": "code",
   "execution_count": 17,
   "id": "b72ed0b4",
   "metadata": {},
   "outputs": [],
   "source": [
    "repository.to_csv('list_with_clusters.csv', index=False)"
   ]
  },
  {
   "cell_type": "code",
   "execution_count": 18,
   "id": "a90c5bed",
   "metadata": {},
   "outputs": [
    {
     "name": "stderr",
     "output_type": "stream",
     "text": [
      "C:\\Users\\Usuario\\AppData\\Local\\Temp/ipykernel_6752/464492750.py:1: FutureWarning: As the xlwt package is no longer maintained, the xlwt engine will be removed in a future version of pandas. This is the only engine in pandas that supports writing in the xls format. Install openpyxl and write to an xlsx file instead. You can set the option io.excel.xls.writer to 'xlwt' to silence this warning. While this option is deprecated and will also raise a warning, it can be globally set and the warning suppressed.\n",
      "  repository.to_excel('list_with_clusters.xls')\n"
     ]
    }
   ],
   "source": [
    "repository.to_excel('list_with_clusters.xls')"
   ]
  },
  {
   "cell_type": "code",
   "execution_count": null,
   "id": "b76ba74c",
   "metadata": {},
   "outputs": [],
   "source": []
  }
 ],
 "metadata": {
  "kernelspec": {
   "display_name": "Python 3 (ipykernel)",
   "language": "python",
   "name": "python3"
  },
  "language_info": {
   "codemirror_mode": {
    "name": "ipython",
    "version": 3
   },
   "file_extension": ".py",
   "mimetype": "text/x-python",
   "name": "python",
   "nbconvert_exporter": "python",
   "pygments_lexer": "ipython3",
   "version": "3.9.7"
  }
 },
 "nbformat": 4,
 "nbformat_minor": 5
}

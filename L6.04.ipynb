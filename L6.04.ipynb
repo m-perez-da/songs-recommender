{
 "cells": [
  {
   "cell_type": "code",
   "execution_count": 1,
   "id": "11b8b14e",
   "metadata": {},
   "outputs": [],
   "source": [
    "from bs4 import BeautifulSoup\n",
    "import pandas as pd\n",
    "import requests\n",
    "from time import sleep\n",
    "from random import randint\n",
    "import spotipy\n",
    "from spotipy.oauth2 import SpotifyClientCredentials"
   ]
  },
  {
   "cell_type": "code",
   "execution_count": 2,
   "id": "61feb934",
   "metadata": {},
   "outputs": [],
   "source": [
    "secrets_file = open(\"SpotifySecret.txt\",\"r\")"
   ]
  },
  {
   "cell_type": "code",
   "execution_count": 3,
   "id": "e2351462",
   "metadata": {},
   "outputs": [],
   "source": [
    "string = secrets_file.read()"
   ]
  },
  {
   "cell_type": "code",
   "execution_count": 4,
   "id": "c85bc83b",
   "metadata": {},
   "outputs": [],
   "source": [
    "secrets_dict={}\n",
    "for line in string.split('\\n'):\n",
    "    if len(line) > 0:\n",
    "        secrets_dict[line.split(':')[0]]=line.split(':')[1]"
   ]
  },
  {
   "cell_type": "code",
   "execution_count": 5,
   "id": "f94844e1",
   "metadata": {},
   "outputs": [],
   "source": [
    "sp = spotipy.Spotify(auth_manager=SpotifyClientCredentials(client_id=secrets_dict['cid'],\n",
    "                                                           client_secret=secrets_dict['cs']))"
   ]
  },
  {
   "cell_type": "code",
   "execution_count": 7,
   "id": "3465712a",
   "metadata": {},
   "outputs": [],
   "source": [
    "# loading list of songs collected using scraping\n",
    "scraping_list = pd.read_csv('scraping_list.csv')"
   ]
  },
  {
   "cell_type": "code",
   "execution_count": 8,
   "id": "c87b1316",
   "metadata": {},
   "outputs": [
    {
     "data": {
      "text/html": [
       "<div>\n",
       "<style scoped>\n",
       "    .dataframe tbody tr th:only-of-type {\n",
       "        vertical-align: middle;\n",
       "    }\n",
       "\n",
       "    .dataframe tbody tr th {\n",
       "        vertical-align: top;\n",
       "    }\n",
       "\n",
       "    .dataframe thead th {\n",
       "        text-align: right;\n",
       "    }\n",
       "</style>\n",
       "<table border=\"1\" class=\"dataframe\">\n",
       "  <thead>\n",
       "    <tr style=\"text-align: right;\">\n",
       "      <th></th>\n",
       "      <th>artist</th>\n",
       "      <th>song</th>\n",
       "    </tr>\n",
       "  </thead>\n",
       "  <tbody>\n",
       "    <tr>\n",
       "      <th>0</th>\n",
       "      <td>Pink Floyd</td>\n",
       "      <td>Another Brick in the Wall (part 2)</td>\n",
       "    </tr>\n",
       "    <tr>\n",
       "      <th>1</th>\n",
       "      <td>Barbra Streisand</td>\n",
       "      <td>A Woman in Love</td>\n",
       "    </tr>\n",
       "    <tr>\n",
       "      <th>2</th>\n",
       "      <td>John Lennon</td>\n",
       "      <td>(Just Like) Starting Over</td>\n",
       "    </tr>\n",
       "    <tr>\n",
       "      <th>3</th>\n",
       "      <td>Diana Ross</td>\n",
       "      <td>Upside Down</td>\n",
       "    </tr>\n",
       "    <tr>\n",
       "      <th>4</th>\n",
       "      <td>Lipps Inc</td>\n",
       "      <td>Funkytown</td>\n",
       "    </tr>\n",
       "  </tbody>\n",
       "</table>\n",
       "</div>"
      ],
      "text/plain": [
       "             artist                                song\n",
       "0        Pink Floyd  Another Brick in the Wall (part 2)\n",
       "1  Barbra Streisand                     A Woman in Love\n",
       "2       John Lennon           (Just Like) Starting Over\n",
       "3        Diana Ross                         Upside Down\n",
       "4         Lipps Inc                           Funkytown"
      ]
     },
     "execution_count": 8,
     "metadata": {},
     "output_type": "execute_result"
    }
   ],
   "source": [
    "scraping_list.head()"
   ]
  },
  {
   "cell_type": "code",
   "execution_count": 9,
   "id": "7f44725c",
   "metadata": {},
   "outputs": [],
   "source": [
    "# loading list of songs collected from Spotify using API\n",
    "spotify_list = pd.read_csv('spotify_playlist.csv')"
   ]
  },
  {
   "cell_type": "code",
   "execution_count": 12,
   "id": "ca84a110",
   "metadata": {},
   "outputs": [
    {
     "data": {
      "text/html": [
       "<div>\n",
       "<style scoped>\n",
       "    .dataframe tbody tr th:only-of-type {\n",
       "        vertical-align: middle;\n",
       "    }\n",
       "\n",
       "    .dataframe tbody tr th {\n",
       "        vertical-align: top;\n",
       "    }\n",
       "\n",
       "    .dataframe thead th {\n",
       "        text-align: right;\n",
       "    }\n",
       "</style>\n",
       "<table border=\"1\" class=\"dataframe\">\n",
       "  <thead>\n",
       "    <tr style=\"text-align: right;\">\n",
       "      <th></th>\n",
       "      <th>artist</th>\n",
       "      <th>song</th>\n",
       "    </tr>\n",
       "  </thead>\n",
       "  <tbody>\n",
       "    <tr>\n",
       "      <th>0</th>\n",
       "      <td>Prince</td>\n",
       "      <td>When Doves Cry</td>\n",
       "    </tr>\n",
       "    <tr>\n",
       "      <th>1</th>\n",
       "      <td>Irene Cara</td>\n",
       "      <td>Fame - From \"Fame\" Original Motion Picture Sou...</td>\n",
       "    </tr>\n",
       "    <tr>\n",
       "      <th>2</th>\n",
       "      <td>Bananarama</td>\n",
       "      <td>Venus</td>\n",
       "    </tr>\n",
       "    <tr>\n",
       "      <th>3</th>\n",
       "      <td>a-ha</td>\n",
       "      <td>Take On Me</td>\n",
       "    </tr>\n",
       "    <tr>\n",
       "      <th>4</th>\n",
       "      <td>Madonna</td>\n",
       "      <td>Material Girl</td>\n",
       "    </tr>\n",
       "  </tbody>\n",
       "</table>\n",
       "</div>"
      ],
      "text/plain": [
       "       artist                                               song\n",
       "0      Prince                                     When Doves Cry\n",
       "1  Irene Cara  Fame - From \"Fame\" Original Motion Picture Sou...\n",
       "2  Bananarama                                              Venus\n",
       "3        a-ha                                         Take On Me\n",
       "4     Madonna                                      Material Girl"
      ]
     },
     "execution_count": 12,
     "metadata": {},
     "output_type": "execute_result"
    }
   ],
   "source": [
    "spotify_list.head()"
   ]
  },
  {
   "cell_type": "code",
   "execution_count": 11,
   "id": "b5273798",
   "metadata": {},
   "outputs": [],
   "source": [
    "# removing 'track_id' column\n",
    "spotify_list=spotify_list.drop(['Unnamed: 0', 'track_id'], axis=1)"
   ]
  },
  {
   "cell_type": "code",
   "execution_count": 14,
   "id": "fbf59110",
   "metadata": {},
   "outputs": [],
   "source": [
    "repository=pd.concat([scraping_list, spotify_list], axis=0)"
   ]
  },
  {
   "cell_type": "code",
   "execution_count": 15,
   "id": "baa4cc87",
   "metadata": {},
   "outputs": [
    {
     "data": {
      "text/html": [
       "<div>\n",
       "<style scoped>\n",
       "    .dataframe tbody tr th:only-of-type {\n",
       "        vertical-align: middle;\n",
       "    }\n",
       "\n",
       "    .dataframe tbody tr th {\n",
       "        vertical-align: top;\n",
       "    }\n",
       "\n",
       "    .dataframe thead th {\n",
       "        text-align: right;\n",
       "    }\n",
       "</style>\n",
       "<table border=\"1\" class=\"dataframe\">\n",
       "  <thead>\n",
       "    <tr style=\"text-align: right;\">\n",
       "      <th></th>\n",
       "      <th>artist</th>\n",
       "      <th>song</th>\n",
       "    </tr>\n",
       "  </thead>\n",
       "  <tbody>\n",
       "    <tr>\n",
       "      <th>0</th>\n",
       "      <td>Pink Floyd</td>\n",
       "      <td>Another Brick in the Wall (part 2)</td>\n",
       "    </tr>\n",
       "    <tr>\n",
       "      <th>1</th>\n",
       "      <td>Barbra Streisand</td>\n",
       "      <td>A Woman in Love</td>\n",
       "    </tr>\n",
       "    <tr>\n",
       "      <th>2</th>\n",
       "      <td>John Lennon</td>\n",
       "      <td>(Just Like) Starting Over</td>\n",
       "    </tr>\n",
       "    <tr>\n",
       "      <th>3</th>\n",
       "      <td>Diana Ross</td>\n",
       "      <td>Upside Down</td>\n",
       "    </tr>\n",
       "    <tr>\n",
       "      <th>4</th>\n",
       "      <td>Lipps Inc</td>\n",
       "      <td>Funkytown</td>\n",
       "    </tr>\n",
       "    <tr>\n",
       "      <th>...</th>\n",
       "      <td>...</td>\n",
       "      <td>...</td>\n",
       "    </tr>\n",
       "    <tr>\n",
       "      <th>125</th>\n",
       "      <td>Bonnie Tyler</td>\n",
       "      <td>Total Eclipse of the Heart</td>\n",
       "    </tr>\n",
       "    <tr>\n",
       "      <th>126</th>\n",
       "      <td>Madonna</td>\n",
       "      <td>Like a Prayer</td>\n",
       "    </tr>\n",
       "    <tr>\n",
       "      <th>127</th>\n",
       "      <td>Donna Summer</td>\n",
       "      <td>She Works Hard For The Money</td>\n",
       "    </tr>\n",
       "    <tr>\n",
       "      <th>128</th>\n",
       "      <td>Bonnie Tyler</td>\n",
       "      <td>Total Eclipse of the Heart</td>\n",
       "    </tr>\n",
       "    <tr>\n",
       "      <th>129</th>\n",
       "      <td>Laura Branigan</td>\n",
       "      <td>Gloria</td>\n",
       "    </tr>\n",
       "  </tbody>\n",
       "</table>\n",
       "<p>1979 rows × 2 columns</p>\n",
       "</div>"
      ],
      "text/plain": [
       "               artist                                song\n",
       "0          Pink Floyd  Another Brick in the Wall (part 2)\n",
       "1    Barbra Streisand                     A Woman in Love\n",
       "2         John Lennon           (Just Like) Starting Over\n",
       "3          Diana Ross                         Upside Down\n",
       "4           Lipps Inc                           Funkytown\n",
       "..                ...                                 ...\n",
       "125      Bonnie Tyler          Total Eclipse of the Heart\n",
       "126           Madonna                       Like a Prayer\n",
       "127      Donna Summer        She Works Hard For The Money\n",
       "128      Bonnie Tyler          Total Eclipse of the Heart\n",
       "129    Laura Branigan                              Gloria\n",
       "\n",
       "[1979 rows x 2 columns]"
      ]
     },
     "execution_count": 15,
     "metadata": {},
     "output_type": "execute_result"
    }
   ],
   "source": [
    "repository"
   ]
  },
  {
   "cell_type": "code",
   "execution_count": 16,
   "id": "ee80163f",
   "metadata": {},
   "outputs": [],
   "source": [
    "repository['artist']=repository['artist'].apply(lambda x: x.lower())\n",
    "repository['song']=repository['song'].apply(lambda x: x.lower())\n",
    "repository=repository.drop_duplicates()\n",
    "repository=repository.reset_index()"
   ]
  },
  {
   "cell_type": "code",
   "execution_count": 17,
   "id": "eeb5dfe0",
   "metadata": {},
   "outputs": [],
   "source": [
    "repository=repository.drop(['index'], axis=1)"
   ]
  },
  {
   "cell_type": "code",
   "execution_count": 18,
   "id": "804011f0",
   "metadata": {},
   "outputs": [
    {
     "data": {
      "text/html": [
       "<div>\n",
       "<style scoped>\n",
       "    .dataframe tbody tr th:only-of-type {\n",
       "        vertical-align: middle;\n",
       "    }\n",
       "\n",
       "    .dataframe tbody tr th {\n",
       "        vertical-align: top;\n",
       "    }\n",
       "\n",
       "    .dataframe thead th {\n",
       "        text-align: right;\n",
       "    }\n",
       "</style>\n",
       "<table border=\"1\" class=\"dataframe\">\n",
       "  <thead>\n",
       "    <tr style=\"text-align: right;\">\n",
       "      <th></th>\n",
       "      <th>artist</th>\n",
       "      <th>song</th>\n",
       "    </tr>\n",
       "  </thead>\n",
       "  <tbody>\n",
       "    <tr>\n",
       "      <th>0</th>\n",
       "      <td>pink floyd</td>\n",
       "      <td>another brick in the wall (part 2)</td>\n",
       "    </tr>\n",
       "    <tr>\n",
       "      <th>1</th>\n",
       "      <td>barbra streisand</td>\n",
       "      <td>a woman in love</td>\n",
       "    </tr>\n",
       "    <tr>\n",
       "      <th>2</th>\n",
       "      <td>john lennon</td>\n",
       "      <td>(just like) starting over</td>\n",
       "    </tr>\n",
       "    <tr>\n",
       "      <th>3</th>\n",
       "      <td>diana ross</td>\n",
       "      <td>upside down</td>\n",
       "    </tr>\n",
       "    <tr>\n",
       "      <th>4</th>\n",
       "      <td>lipps inc</td>\n",
       "      <td>funkytown</td>\n",
       "    </tr>\n",
       "  </tbody>\n",
       "</table>\n",
       "</div>"
      ],
      "text/plain": [
       "             artist                                song\n",
       "0        pink floyd  another brick in the wall (part 2)\n",
       "1  barbra streisand                     a woman in love\n",
       "2       john lennon           (just like) starting over\n",
       "3        diana ross                         upside down\n",
       "4         lipps inc                           funkytown"
      ]
     },
     "execution_count": 18,
     "metadata": {},
     "output_type": "execute_result"
    }
   ],
   "source": [
    "repository.head()"
   ]
  },
  {
   "cell_type": "code",
   "execution_count": 19,
   "id": "ba37be71",
   "metadata": {},
   "outputs": [
    {
     "data": {
      "text/plain": [
       "(1810, 2)"
      ]
     },
     "execution_count": 19,
     "metadata": {},
     "output_type": "execute_result"
    }
   ],
   "source": [
    "repository.shape"
   ]
  },
  {
   "cell_type": "code",
   "execution_count": 27,
   "id": "aaf54663",
   "metadata": {},
   "outputs": [
    {
     "ename": "KeyboardInterrupt",
     "evalue": "",
     "output_type": "error",
     "traceback": [
      "\u001b[1;31m---------------------------------------------------------------------------\u001b[0m",
      "\u001b[1;31mKeyboardInterrupt\u001b[0m                         Traceback (most recent call last)",
      "\u001b[1;32m~\\AppData\\Local\\Temp/ipykernel_12200/295767756.py\u001b[0m in \u001b[0;36m<module>\u001b[1;34m\u001b[0m\n\u001b[0;32m     58\u001b[0m     \u001b[0mwait_time\u001b[0m \u001b[1;33m=\u001b[0m \u001b[0mrandint\u001b[0m\u001b[1;33m(\u001b[0m\u001b[1;36m1\u001b[0m\u001b[1;33m,\u001b[0m\u001b[1;36m2\u001b[0m\u001b[1;33m)\u001b[0m\u001b[1;33m\u001b[0m\u001b[1;33m\u001b[0m\u001b[0m\n\u001b[0;32m     59\u001b[0m  \u001b[1;31m#   print(\"I will sleep for \" + str(wait_time) + \" second/s.\")\u001b[0m\u001b[1;33m\u001b[0m\u001b[1;33m\u001b[0m\u001b[0m\n\u001b[1;32m---> 60\u001b[1;33m     \u001b[0msleep\u001b[0m\u001b[1;33m(\u001b[0m\u001b[0mwait_time\u001b[0m\u001b[1;33m)\u001b[0m\u001b[1;33m\u001b[0m\u001b[1;33m\u001b[0m\u001b[0m\n\u001b[0m",
      "\u001b[1;31mKeyboardInterrupt\u001b[0m: "
     ]
    }
   ],
   "source": [
    "# collecting audio features from Spotify\n",
    "songs_uri=[]\n",
    "songs_danceability=[]\n",
    "songs_energy=[]\n",
    "songs_key=[]\n",
    "songs_loudness=[]\n",
    "songs_mode=[]\n",
    "songs_speechiness=[]\n",
    "songs_acousticness=[]\n",
    "songs_instrumentalness=[]\n",
    "songs_liveness=[]\n",
    "songs_valence=[]\n",
    "songs_tempo=[]\n",
    "songs_duration_ms=[]\n",
    "songs_time_signature=[]\n",
    "\n",
    "for i in range(len(repository)):\n",
    "    results = sp.search(q=(repository.loc[i,'artist']+ ' ' +repository.loc[i,'song']), limit=1)\n",
    "#    for j in range(len(results['tracks']['items'])):\n",
    "#        results_artist=results['tracks']['items'][j]['artists'][0]['name']\n",
    "#        results_song=results['tracks']['items'][j]['name']\n",
    "#        print(repository2.loc[4,'artist'])\n",
    "#         print(repository2.loc[i,'song'])\n",
    "#        if ((repository.loc[12,'song']==results_song) & (repository.loc[12,'artist']==results_artist)):\n",
    "# #            uri_id=results['tracks']['items'][0]['uri']\n",
    "    if len(results['tracks']['items'])>0:\n",
    "        songs_uri.append(results['tracks']['items'][0]['uri'])\n",
    "        uri=results['tracks']['items'][0]['uri']\n",
    "        results=sp.audio_features(uri)    \n",
    "        songs_danceability.append(results[0]['danceability'])\n",
    "        songs_energy.append(results[0]['energy'])\n",
    "        songs_key.append(results[0]['key'])\n",
    "        songs_loudness.append(results[0]['loudness'])\n",
    "        songs_mode.append(results[0]['mode'])\n",
    "        songs_speechiness.append(results[0]['speechiness'])\n",
    "        songs_acousticness.append(results[0]['acousticness'])\n",
    "        songs_instrumentalness.append(results[0]['instrumentalness'])\n",
    "        songs_liveness.append(results[0]['liveness'])\n",
    "        songs_valence.append(results[0]['valence'])\n",
    "        songs_tempo.append(results[0]['tempo'])\n",
    "        songs_duration_ms.append(results[0]['duration_ms'])\n",
    "        songs_time_signature.append(results[0]['time_signature'])\n",
    "    else:\n",
    "        songs_uri.append('NA')\n",
    "        songs_danceability.append('NA')\n",
    "        songs_energy.append('NA')\n",
    "        songs_key.append('NA')\n",
    "        songs_loudness.append('NA')\n",
    "        songs_mode.append('NA')\n",
    "        songs_speechiness.append('NA')\n",
    "        songs_acousticness.append('NA')\n",
    "        songs_instrumentalness.append('NA')\n",
    "        songs_liveness.append('NA')\n",
    "        songs_valence.append('NA')\n",
    "        songs_tempo.append('NA')\n",
    "        songs_duration_ms.append('NA')\n",
    "        songs_time_signature.append('NA')\n",
    "    wait_time = randint(1,2)\n",
    " #   print(\"I will sleep for \" + str(wait_time) + \" second/s.\")\n",
    "    sleep(wait_time)"
   ]
  },
  {
   "cell_type": "code",
   "execution_count": 21,
   "id": "071d4db7",
   "metadata": {},
   "outputs": [],
   "source": [
    "# adding audio features to my list of songs\n",
    "repository['uri']=songs_uri\n",
    "repository['danceability']=songs_danceability\n",
    "repository['energy']=songs_energy\n",
    "repository['key']=songs_key\n",
    "repository['loudness']=songs_loudness\n",
    "repository['mode']=songs_mode\n",
    "repository['speechiness']=songs_speechiness\n",
    "repository['acousticness']=songs_acousticness\n",
    "repository['instrumentalness']=songs_instrumentalness\n",
    "repository['liveness']=songs_liveness\n",
    "repository['valence']=songs_valence\n",
    "repository['tempo']=songs_tempo\n",
    "repository['duration_ms']=songs_duration_ms\n",
    "repository['time_signature']=songs_time_signature"
   ]
  },
  {
   "cell_type": "code",
   "execution_count": 22,
   "id": "18e23f15",
   "metadata": {},
   "outputs": [
    {
     "data": {
      "text/html": [
       "<div>\n",
       "<style scoped>\n",
       "    .dataframe tbody tr th:only-of-type {\n",
       "        vertical-align: middle;\n",
       "    }\n",
       "\n",
       "    .dataframe tbody tr th {\n",
       "        vertical-align: top;\n",
       "    }\n",
       "\n",
       "    .dataframe thead th {\n",
       "        text-align: right;\n",
       "    }\n",
       "</style>\n",
       "<table border=\"1\" class=\"dataframe\">\n",
       "  <thead>\n",
       "    <tr style=\"text-align: right;\">\n",
       "      <th></th>\n",
       "      <th>artist</th>\n",
       "      <th>song</th>\n",
       "      <th>uri</th>\n",
       "      <th>danceability</th>\n",
       "      <th>energy</th>\n",
       "      <th>key</th>\n",
       "      <th>loudness</th>\n",
       "      <th>mode</th>\n",
       "      <th>speechiness</th>\n",
       "      <th>acousticness</th>\n",
       "      <th>instrumentalness</th>\n",
       "      <th>liveness</th>\n",
       "      <th>valence</th>\n",
       "      <th>tempo</th>\n",
       "      <th>duration_ms</th>\n",
       "      <th>time_signature</th>\n",
       "    </tr>\n",
       "  </thead>\n",
       "  <tbody>\n",
       "    <tr>\n",
       "      <th>0</th>\n",
       "      <td>pink floyd</td>\n",
       "      <td>another brick in the wall (part 2)</td>\n",
       "      <td>spotify:track:1xUTI8Ce8IQnyYCGPmrbzS</td>\n",
       "      <td>0.395</td>\n",
       "      <td>0.766</td>\n",
       "      <td>0</td>\n",
       "      <td>-11.041</td>\n",
       "      <td>1</td>\n",
       "      <td>0.0512</td>\n",
       "      <td>0.00583</td>\n",
       "      <td>0.00624</td>\n",
       "      <td>0.774</td>\n",
       "      <td>0.611</td>\n",
       "      <td>105.41</td>\n",
       "      <td>326373</td>\n",
       "      <td>4</td>\n",
       "    </tr>\n",
       "    <tr>\n",
       "      <th>1</th>\n",
       "      <td>barbra streisand</td>\n",
       "      <td>a woman in love</td>\n",
       "      <td>spotify:track:53No4na49hTw82MxrFh2PB</td>\n",
       "      <td>0.489</td>\n",
       "      <td>0.245</td>\n",
       "      <td>3</td>\n",
       "      <td>-16.876</td>\n",
       "      <td>0</td>\n",
       "      <td>0.0284</td>\n",
       "      <td>0.43</td>\n",
       "      <td>0.000015</td>\n",
       "      <td>0.298</td>\n",
       "      <td>0.333</td>\n",
       "      <td>169.747</td>\n",
       "      <td>230227</td>\n",
       "      <td>4</td>\n",
       "    </tr>\n",
       "    <tr>\n",
       "      <th>2</th>\n",
       "      <td>john lennon</td>\n",
       "      <td>(just like) starting over</td>\n",
       "      <td>spotify:track:5y0YreEOnQiKFAnCrcFIXz</td>\n",
       "      <td>0.701</td>\n",
       "      <td>0.79</td>\n",
       "      <td>9</td>\n",
       "      <td>-6.16</td>\n",
       "      <td>1</td>\n",
       "      <td>0.0725</td>\n",
       "      <td>0.301</td>\n",
       "      <td>0.000061</td>\n",
       "      <td>0.179</td>\n",
       "      <td>0.421</td>\n",
       "      <td>99.104</td>\n",
       "      <td>236547</td>\n",
       "      <td>4</td>\n",
       "    </tr>\n",
       "    <tr>\n",
       "      <th>3</th>\n",
       "      <td>diana ross</td>\n",
       "      <td>upside down</td>\n",
       "      <td>spotify:track:3pbtBomO4Zt5gGiqsYeiBH</td>\n",
       "      <td>0.873</td>\n",
       "      <td>0.855</td>\n",
       "      <td>5</td>\n",
       "      <td>-8.559</td>\n",
       "      <td>0</td>\n",
       "      <td>0.0615</td>\n",
       "      <td>0.179</td>\n",
       "      <td>0.0285</td>\n",
       "      <td>0.0377</td>\n",
       "      <td>0.884</td>\n",
       "      <td>107.868</td>\n",
       "      <td>245600</td>\n",
       "      <td>4</td>\n",
       "    </tr>\n",
       "    <tr>\n",
       "      <th>4</th>\n",
       "      <td>lipps inc</td>\n",
       "      <td>funkytown</td>\n",
       "      <td>spotify:track:5dIKF6uVJ206hj0pO0gg0I</td>\n",
       "      <td>0.893</td>\n",
       "      <td>0.509</td>\n",
       "      <td>0</td>\n",
       "      <td>-10.136</td>\n",
       "      <td>1</td>\n",
       "      <td>0.0659</td>\n",
       "      <td>0.00154</td>\n",
       "      <td>0.515</td>\n",
       "      <td>0.0783</td>\n",
       "      <td>0.334</td>\n",
       "      <td>122.478</td>\n",
       "      <td>469347</td>\n",
       "      <td>4</td>\n",
       "    </tr>\n",
       "  </tbody>\n",
       "</table>\n",
       "</div>"
      ],
      "text/plain": [
       "             artist                                song  \\\n",
       "0        pink floyd  another brick in the wall (part 2)   \n",
       "1  barbra streisand                     a woman in love   \n",
       "2       john lennon           (just like) starting over   \n",
       "3        diana ross                         upside down   \n",
       "4         lipps inc                           funkytown   \n",
       "\n",
       "                                    uri danceability energy key loudness mode  \\\n",
       "0  spotify:track:1xUTI8Ce8IQnyYCGPmrbzS        0.395  0.766   0  -11.041    1   \n",
       "1  spotify:track:53No4na49hTw82MxrFh2PB        0.489  0.245   3  -16.876    0   \n",
       "2  spotify:track:5y0YreEOnQiKFAnCrcFIXz        0.701   0.79   9    -6.16    1   \n",
       "3  spotify:track:3pbtBomO4Zt5gGiqsYeiBH        0.873  0.855   5   -8.559    0   \n",
       "4  spotify:track:5dIKF6uVJ206hj0pO0gg0I        0.893  0.509   0  -10.136    1   \n",
       "\n",
       "  speechiness acousticness instrumentalness liveness valence    tempo  \\\n",
       "0      0.0512      0.00583          0.00624    0.774   0.611   105.41   \n",
       "1      0.0284         0.43         0.000015    0.298   0.333  169.747   \n",
       "2      0.0725        0.301         0.000061    0.179   0.421   99.104   \n",
       "3      0.0615        0.179           0.0285   0.0377   0.884  107.868   \n",
       "4      0.0659      0.00154            0.515   0.0783   0.334  122.478   \n",
       "\n",
       "  duration_ms time_signature  \n",
       "0      326373              4  \n",
       "1      230227              4  \n",
       "2      236547              4  \n",
       "3      245600              4  \n",
       "4      469347              4  "
      ]
     },
     "execution_count": 22,
     "metadata": {},
     "output_type": "execute_result"
    }
   ],
   "source": [
    "repository.head()"
   ]
  },
  {
   "cell_type": "code",
   "execution_count": 23,
   "id": "d95991ea",
   "metadata": {},
   "outputs": [
    {
     "data": {
      "text/plain": [
       "(1810, 16)"
      ]
     },
     "execution_count": 23,
     "metadata": {},
     "output_type": "execute_result"
    }
   ],
   "source": [
    "repository.shape"
   ]
  },
  {
   "cell_type": "code",
   "execution_count": 24,
   "id": "c0b4cb68",
   "metadata": {},
   "outputs": [
    {
     "data": {
      "text/plain": [
       "4     1727\n",
       "NA      54\n",
       "3       28\n",
       "1        1\n",
       "Name: time_signature, dtype: int64"
      ]
     },
     "execution_count": 24,
     "metadata": {},
     "output_type": "execute_result"
    }
   ],
   "source": [
    "# some of the queries returned no results ('NA', Not Available in audio features rows)\n",
    "repository['time_signature'].value_counts()"
   ]
  },
  {
   "cell_type": "code",
   "execution_count": 25,
   "id": "8049b969",
   "metadata": {},
   "outputs": [],
   "source": [
    "# . I'm going to remove this rows with no audio features\n",
    "repository=repository[~(repository['time_signature']=='NA')]"
   ]
  },
  {
   "cell_type": "code",
   "execution_count": 26,
   "id": "99b39e03",
   "metadata": {},
   "outputs": [],
   "source": [
    "repository.to_csv('list_with_audio_features.csv')"
   ]
  },
  {
   "cell_type": "code",
   "execution_count": null,
   "id": "914be1b7",
   "metadata": {},
   "outputs": [],
   "source": []
  }
 ],
 "metadata": {
  "kernelspec": {
   "display_name": "Python 3 (ipykernel)",
   "language": "python",
   "name": "python3"
  },
  "language_info": {
   "codemirror_mode": {
    "name": "ipython",
    "version": 3
   },
   "file_extension": ".py",
   "mimetype": "text/x-python",
   "name": "python",
   "nbconvert_exporter": "python",
   "pygments_lexer": "ipython3",
   "version": "3.9.7"
  }
 },
 "nbformat": 4,
 "nbformat_minor": 5
}
